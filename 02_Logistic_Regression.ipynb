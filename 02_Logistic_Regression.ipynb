{
  "nbformat": 4,
  "nbformat_minor": 0,
  "metadata": {
    "colab": {
      "name": "02-Logistic-Regression.ipynb",
      "provenance": [],
      "collapsed_sections": [],
      "authorship_tag": "ABX9TyNmErBxoFUgIeZk3Za1vFiq",
      "include_colab_link": true
    },
    "kernelspec": {
      "name": "python3",
      "display_name": "Python 3"
    }
  },
  "cells": [
    {
      "cell_type": "markdown",
      "metadata": {
        "id": "view-in-github",
        "colab_type": "text"
      },
      "source": [
        "<a href=\"https://colab.research.google.com/github/danielpy108/MachineLearningAlgorithms/blob/master/02_Logistic_Regression.ipynb\" target=\"_parent\"><img src=\"https://colab.research.google.com/assets/colab-badge.svg\" alt=\"Open In Colab\"/></a>"
      ]
    },
    {
      "cell_type": "markdown",
      "metadata": {
        "id": "D4wNICwZCeyc",
        "colab_type": "text"
      },
      "source": [
        "# Locally weighted and Logistic Regression\n",
        "\n",
        "The locally weighted model is a slighty modified version of the Linear Regression algorithm. The difference lies in the cost function:\n",
        "\n",
        "$$ J(w) = \\frac{1}{2N}\\sum_i^N{w_i(y_i - \\sum_j^d{w_jx_j})^2} $$\n",
        "\n",
        "Where:\n",
        "\n",
        "$$ w_i = exp(\\frac{(x_i-x)^2}{2\\tau^2})$$\n",
        "\n",
        "* When $|x_i - x|$ is small then $w_i \\approx 1$\n",
        "* When $|x_i - x|$ is great then $w_i \\approx 0$\n",
        "\n",
        "The shape of $w_i$ is gaussian like altought it doesn't integrate to 1. This gives more \"attention\" to the points $x_i$ near the point of interest $x$ and gives less preference over the further points.\n",
        "\n",
        "### When to use it?\n",
        "\n",
        "* The number of features is small\n",
        "* The number of training data is large\n",
        "* We don't know which features to use\n"
      ]
    },
    {
      "cell_type": "code",
      "metadata": {
        "id": "syYbx9hHCb_U",
        "colab_type": "code",
        "colab": {}
      },
      "source": [
        "import torch\n",
        "import plotly.graph_objects as go"
      ],
      "execution_count": 0,
      "outputs": []
    },
    {
      "cell_type": "code",
      "metadata": {
        "id": "tL4BdhdTGIUI",
        "colab_type": "code",
        "colab": {}
      },
      "source": [
        "d = 4                                    # Number of features\n",
        "N = 200                                  # Number of samples \n",
        "\n",
        "dataset = torch.randn(size=(N, d+1), dtype=torch.float32)\n",
        "X, Y = dataset[:, :4], dataset[:, 4]"
      ],
      "execution_count": 0,
      "outputs": []
    },
    {
      "cell_type": "code",
      "metadata": {
        "id": "7SiXiZtEHghC",
        "colab_type": "code",
        "colab": {}
      },
      "source": [
        "def w(xi, x, tau):\n",
        "    A = (xi - x).pow(2)/(2*tau**2)\n",
        "    return torch.exp(A)\n",
        "\n",
        "def LWRLoss():\n",
        "    pass "
      ],
      "execution_count": 0,
      "outputs": []
    }
  ]
}